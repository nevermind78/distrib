{
 "cells": [
  {
   "attachments": {},
   "cell_type": "markdown",
   "metadata": {},
   "source": [
    "# Bayes' rule application using Python\n",
    "\n",
    "\n",
    "In this Notebook, we will look at simple examples of Bayesian probability calculations.\n",
    "\n",
    "### Bayes' rule (or theorem)\n",
    "\n",
    "Bayes’ theorem (alternatively Bayes’ law or Bayes’ rule) describes the probability of an event, based on prior knowledge of conditions that might be related to the event. For example, if a disease is related to age, then, using Bayes’ theorem, a person's age can be used to more accurately assess the probability that they have the disease, compared to the assessment of the probability of disease made without knowledge of the person’s age.\n",
    "\n",
    "Bayes’ theorem is stated mathematically as the following equation:\n",
    "\n",
    "$$ P(A\\mid B)={\\frac {P(B\\mid A).P(A)}{P(B)}} $$\n",
    "\n",
    "where $A$ and $B$ are events and $P(B)\\neq0$.\n",
    "\n",
    "- $P(A\\mid B)$ is a conditional probability: the likelihood of event $A$ occurring given that $B$ is true.\n",
    "- $P(B\\mid A)$ is also a conditional probability: the likelihood of event $B$ occurring given that $A$ is true.\n",
    "- $P(A)$ and $P(B)$ are the probabilities of observing $A$ and $B$ independently of each other; this is known as the marginal probability.\n",
    "\n",
    "### History\n",
    "\n",
    "Bayes’ theorem is named after Reverend Thomas Bayes, who first used conditional probability to provide an algorithm (his Proposition 9) that uses evidence to calculate limits on an unknown parameter, published as  An Essay towards solving a Problem in the Doctrine of Chances (1763). In what he called a _scholium_, Bayes extended his algorithm to any unknown prior cause. \n",
    "\n",
    "Independently of Bayes, Pierre-Simon Laplace in 1774, and later in his 1812 _“Théorie analytique des probabilités”_ used conditional probability to formulate the relation of an updated posterior probability from a prior probability, given evidence.\n",
    "\n",
    "### A logical process for data science\n",
    "It is a logical way of doing data science...\n",
    "\n",
    "> _We start with a hypothesis. Then, we gather data, and update our initial belief. If the data supports the hypothesis then the probability goes up, if it does not match, then probability goes down._\n",
    "\n",
    "But in majority of statistical learning, the notion of Prior is not used or not looked favorably.\n",
    "Also, the computational intricacies of Bayesian learning has prevented it from being mainstream for more than two hundred years.\n",
    "\n",
    "But things are changing now...\n",
    "\n",
    "[Bayesian inference](https://en.wikipedia.org/wiki/Bayesian_inference) is being applied to genetics, linguistics, image processing, brain imaging, cosmology, machine learning, epidemiology, psychology, forensic science, human object recognition, evolution, visual perception, ecology, and countless other fields where knowledge discovery and predictive analytics are playing a significant role.\n",
    "\n",
    "---"
   ]
  },
  {
   "cell_type": "code",
   "execution_count": null,
   "metadata": {},
   "outputs": [],
   "source": [
    "import numpy as np\n",
    "import matplotlib.pyplot as plt\n",
    "import scipy.stats as st\n",
    "import seaborn as sns"
   ]
  },
  {
   "cell_type": "markdown",
   "metadata": {},
   "source": [
    "## Drug screening example\n",
    "\n",
    "![drug_screen](https://raw.githubusercontent.com/tirthajyoti/Stats-Maths-with-Python/master/images/Drug-Screening.png)\n",
    "\n",
    "Suppose that a test for using a particular drug is **97% sensitive** and **95% specific**. \n",
    "\n",
    "That is, the test will produce **97% true positive** results for drug users and **95% true negative results** for non-drug users.\n",
    "\n",
    "Suppose that 0.5% of the general population are users of the drug. What is the probability that a randomly selected individual with a positive test is a drug user?\n",
    "\n",
    "We will write a custom function which accepts the test capabilities and the prior knowledge of drug user percentage as input and produces the output probability of a test-taker being an user based on a positive result.\n",
    "\n",
    "### Theory\n",
    "\n",
    "The Bayes' rule based calculation is given by the following equation,\n",
    "\n",
    "$$ P(\\text{User}|+)=\\frac{P(+|\\text{User}).P(\\text{User})}{P(+)}\\\\ = \n",
    "\\frac{P(+|\\text{User}).P(\\text{User})}{P(+|\\text{User}).P(\\text{User})+P(+|\\text{Non-user}).P(\\text{Non-user})} $$\n",
    "\n",
    "Here,\n",
    "\n",
    "$P(\\text{User}) = \\text{Prevelance rate}$<br>\n",
    "$P(\\text{Non-user}) = 1-\\text{Prevelance rate}$<br>\n",
    "$P(+|\\text{User})=\\text{Sensitivity}$<br>\n",
    "$P(-|\\text{Non-user})=\\text{Specificity}$<br>\n",
    "$P(+|\\text{Non-user})=1-\\text{Specificity}$"
   ]
  },
  {
   "cell_type": "markdown",
   "metadata": {},
   "source": [
    "### Custom function"
   ]
  },
  {
   "cell_type": "code",
   "execution_count": null,
   "metadata": {},
   "outputs": [],
   "source": [
    "def drug_user(prob_th=0.5,sensitivity=0.99,specificity=0.99,prevelance=0.01,verbose=True):\n",
    "    \"\"\"\n",
    "    \"\"\"\n",
    "    p_user = prevelance\n",
    "    p_non_user = 1-prevelance\n",
    "    p_pos_user = sensitivity\n",
    "    p_neg_user = specificity\n",
    "    p_pos_non_user = 1-specificity\n",
    "    \n",
    "    num = p_pos_user*p_user\n",
    "    den = p_pos_user*p_user+p_pos_non_user*p_non_user\n",
    "    \n",
    "    prob = num/den\n",
    "    \n",
    "    if verbose:\n",
    "        if prob > prob_th:\n",
    "            print(\"The test-taker could be an user\")\n",
    "        else:\n",
    "            print(\"The test-taker may not be an user\")\n",
    "\n",
    "    return prob"
   ]
  },
  {
   "cell_type": "markdown",
   "metadata": {},
   "source": [
    "### Run with the details given in the original question"
   ]
  },
  {
   "cell_type": "code",
   "execution_count": null,
   "metadata": {},
   "outputs": [],
   "source": [
    "p = drug_user(prob_th=0.5,sensitivity=0.97,specificity=0.95,prevelance=0.005)\n",
    "print(\"Probability of the test-taker being a drug user is:\",round(p,3))"
   ]
  },
  {
   "cell_type": "markdown",
   "metadata": {},
   "source": [
    "### Isn't that fascinating to ponder over?\n",
    "\n",
    "Even with a test that is 97% correct for catching positive cases, and 95% correct for rejecting negative cases, the true probability of being a drug-user with a positive result is only 8.9%!\n",
    "\n",
    "If you look at the computations, this is because of extremely low prevelance rate. The number of false positives outweighs the number of true positives. \n",
    "\n",
    "For example, if 1000 individuals are tested, there are expected to be 995 non-users and 5 users. From the 995 non-users, 0.05 × 995 ≃ 50 false positives are expected. From the 5 users, 0.95 × 5 ≈ 5 true positives are expected. Out of 55 positive results, only 5 are genuine!\n",
    "\n",
    "Let's see how the probability changes with prevelance rate."
   ]
  },
  {
   "cell_type": "code",
   "execution_count": null,
   "metadata": {},
   "outputs": [],
   "source": [
    "ps = []\n",
    "pres = []\n",
    "for pre in [i*0.001 for i in range(1,51,2)]:\n",
    "    pres.append(pre*100)\n",
    "    p = drug_user(prob_th=0.5,sensitivity=0.97,specificity=0.95,prevelance=pre,verbose=False)\n",
    "    ps.append(p)\n",
    "\n",
    "plt.figure(figsize=(10,5))\n",
    "plt.title(\"Probability of user with prevelance rate\",fontsize=15)\n",
    "plt.plot(pres,ps,color='k',marker='o',markersize=8)\n",
    "plt.grid(True)\n",
    "plt.xlabel(\"Prevelance (percentage)\",fontsize=14)\n",
    "plt.ylabel(\"Probability of being an user\",fontsize=14)\n",
    "plt.xticks([i*0.25 for i in range(1,21)],fontsize=12,rotation=45)\n",
    "plt.yticks(fontsize=12)\n",
    "plt.show()"
   ]
  },
  {
   "cell_type": "markdown",
   "metadata": {},
   "source": [
    "Note, your decision depends on the probability threshold. Currently, it is set to 0.5. You can lower it if necessary. But, at 0.5 threshold, you need to have almost 4.8% prevelance rate to catch a user with a single positive test result. "
   ]
  },
  {
   "cell_type": "markdown",
   "metadata": {},
   "source": [
    "### So, what level of test capability is needed to improve this scenario?\n",
    "\n",
    "Test sensitivity and speficity impacts this computation strongly. So, we may like to see what kind of capabilities are needed to improve the likelihood of catching drug users."
   ]
  },
  {
   "cell_type": "code",
   "execution_count": null,
   "metadata": {},
   "outputs": [],
   "source": [
    "ps = []\n",
    "sens = []\n",
    "for sen in [i*0.001+0.95 for i in range(1,50,2)]:\n",
    "    sens.append(sen)\n",
    "    p = drug_user(prob_th=0.5,sensitivity=sen,specificity=0.95,prevelance=0.005,verbose=False)\n",
    "    ps.append(p)\n",
    "\n",
    "plt.figure(figsize=(10,5))\n",
    "plt.title(\"Probability of user with test sensitivity\",fontsize=15)\n",
    "plt.plot(sens,ps,color='k',marker='o',markersize=8)\n",
    "plt.grid(True)\n",
    "plt.xlabel(\"Sensitivity(%)\",fontsize=14)\n",
    "plt.ylabel(\"Probability of being an user\",fontsize=14)\n",
    "plt.xticks([0.95+i*0.0025 for i in range(1,21)],fontsize=12,rotation=45)\n",
    "plt.yticks(fontsize=12)\n",
    "plt.show()"
   ]
  },
  {
   "cell_type": "code",
   "execution_count": null,
   "metadata": {},
   "outputs": [],
   "source": [
    "ps = []\n",
    "spes = []\n",
    "for spe in [i*0.002+0.9 for i in range(1,50,2)]:\n",
    "    spes.append(spe)\n",
    "    p = drug_user(prob_th=0.5,sensitivity=0.97,specificity=spe,prevelance=0.005,verbose=False)\n",
    "    ps.append(p)\n",
    "\n",
    "plt.figure(figsize=(10,5))\n",
    "plt.title(\"Probability of user with test specificity\",fontsize=15)\n",
    "plt.plot(spes,ps,color='k',marker='o',markersize=8)\n",
    "plt.grid(True)\n",
    "plt.xlabel(\"Specificity(%)\",fontsize=14)\n",
    "plt.ylabel(\"Probability of being an user\",fontsize=14)\n",
    "plt.xticks([0.9+i*0.005 for i in range(1,21)],fontsize=12,rotation=45)\n",
    "plt.yticks(fontsize=12)\n",
    "plt.show()"
   ]
  },
  {
   "cell_type": "markdown",
   "metadata": {},
   "source": [
    "### Clearly, we should focus on the specificity of the test, not sensitivity\n",
    "\n",
    "The plots above clearly shows that even with close to 100% sensitivity, we don't gain much at all. However, the probability response is highly non-linear with respect to the specificity of the test and as it reaches perfection, we get a large increase in the probability. Therefore, all R&D effort should be focused on how to improve the specificity of the test.\n",
    "\n",
    "This conclusion can be intuitively derived from the fact that the main issue with having low probability is the low prevelance rate. Therefore, catching non-users correctly (i.e. improving specificity) is the area where we should focus on because they are much larger in numbers that the user.\n",
    "\n",
    "Negative examples >> Positive examples in this problem. Therefore, True Negative performance of the test should be excellent."
   ]
  },
  {
   "cell_type": "markdown",
   "metadata": {},
   "source": [
    "### How about applying the Bayes' rule twice (or more)?\n",
    "\n",
    "The best thing about Bayesian inference is the **ability to use prior knowledge** in the form of Prior probability term in the numerator of the Bayes' theorem.\n",
    "\n",
    "In this setting of drug screening, the prior knowledge is nothing but the computed probability of a test which is then fed back to a next test.\n",
    "\n",
    "That means, for these cases, where the prevelance rate in the general population is extremely low, one way to increase confidence is to prescribe subsequent test if the first test result is positive.\n",
    "\n",
    "**The probability from the first test becomes the _Prior_ for the second test** i.e. the $P(\\text{User})$ is not the general prevelance rate anymore for this second test, but the probability from the first test.\n",
    "\n",
    "Let's see how the probability evolves with a series of tests..."
   ]
  },
  {
   "cell_type": "code",
   "execution_count": null,
   "metadata": {},
   "outputs": [],
   "source": [
    "p1 = drug_user(prob_th=0.5,sensitivity=0.97,specificity=0.95,prevelance=0.005)\n",
    "print(\"Probability of the test-taker being a drug user, in the first round of test, is:\",round(p1,3))\n",
    "print()\n",
    "p2 = drug_user(prob_th=0.5,sensitivity=0.97,specificity=0.95,prevelance=p1)\n",
    "print(\"Probability of the test-taker being a drug user, in the second round of test, is:\",round(p2,3))\n",
    "print()\n",
    "p3 = drug_user(prob_th=0.5,sensitivity=0.97,specificity=0.95,prevelance=p2)\n",
    "print(\"Probability of the test-taker being a drug user, in the third round of test, is:\",round(p3,3))"
   ]
  },
  {
   "cell_type": "markdown",
   "metadata": {},
   "source": [
    "### Conclusion\n",
    "With three consecutive tests, we are 97.3% confident about catching a true drug user, with the same test capabilities.\n",
    "\n",
    "---"
   ]
  },
  {
   "cell_type": "markdown",
   "metadata": {},
   "source": [
    "## Factory quality assesment example\n",
    "\n",
    "The entire output of a factory is produced on three machines. The three machines account for 20%, 30%, and 50% of the factory output. The fraction of defective items produced is 5% for the first machine; 3% for the second machine; and 1% for the third machine. \n",
    "\n",
    "If an item is chosen at random from the total output and is found to be defective, what is the probability that it was produced by the third machine?\n",
    "\n",
    "### Approach\n",
    "\n",
    "Let $X_i$ denote the event that a randomly chosen item was made by the $i^{th}$ machine (for i = A,B,C). Let $Y$ denote the event that a randomly chosen item is defective. Then, we are given the following information:\n",
    "\n",
    "$$P(X_A)=0.2, \\ P(X_B)=0.3, \\ P(X_C)=0.5 $$\n",
    "\n",
    "From the defect run rate, we also have,\n",
    "\n",
    "$$ P(Y|X_A)=0.05,\\ P(Y|X_B)=0.03,\\ P(Y|X_C)=0.01 $$\n",
    "\n",
    "We need to compute $P(X_C|Y)$. Applying Bayes' rule,\n",
    "\n",
    "$$ P(X_C|Y)=\\frac{P(Y|X_C).P(X_C)}{P(Y)} $$\n",
    "\n",
    "In this case, the main unknown in the denominator $P(Y)$, which can be calculated as follows,\n",
    "\n",
    "$$ P(Y) = \\sum_{i} P(Y|X_i).P(X_i) = (0.05)(0.2)+(0.03)(0.3)+(0.01)(0.5)=0.024 $$\n",
    "\n",
    "So, $$ P(X_C|Y)= \\frac{P(Y|X_C).P(X_C)}{P(Y)} \\\\ = \\frac{(0.01)(0.5)}{0.024}\\\\ = 0.208 $$\n",
    "\n",
    "### Insight\n",
    "\n",
    "Given that the item is defective, the probability that it was made by the third machine is only 0.208. \n",
    "\n",
    "Although the machine C produces half of the total output, it produces a much smaller fraction of the defective items. Hence the knowledge that the item selected was defective enables us to **replace the prior probability $P(X_C)$ = 0.5 by the smaller posterior probability $P(X_C|Y)$ = 0.208**."
   ]
  },
  {
   "cell_type": "markdown",
   "metadata": {},
   "source": [
    "### Variability over time\n",
    "\n",
    "A common scenario is that, the production capacity allocation and defect performance of the machines are not exactly constant and they vary over time. Factories continually monitor these numbers and may have to update the probability estimates using Bayes' rule as above.\n",
    "\n",
    "We can write a simple script to add probabilistic variation to the Bayes' rule computation to demonstrate this."
   ]
  },
  {
   "cell_type": "code",
   "execution_count": null,
   "metadata": {},
   "outputs": [],
   "source": [
    "def abs_array(array):\n",
    "    return np.vectorize(np.abs)(array)"
   ]
  },
  {
   "cell_type": "code",
   "execution_count": null,
   "metadata": {},
   "outputs": [],
   "source": [
    "# Production capacity variability over 52 weeks in a year\n",
    "p_XA = abs_array(0.2+np.random.normal(scale=0.05,size=52))\n",
    "p_XB = abs_array(0.3+np.random.normal(scale=0.03,size=52))\n",
    "p_XC = abs_array(0.5+np.random.normal(scale=0.07,size=52))\n",
    "\n",
    "# Probability of defect variation over 52 weeks in a year\n",
    "p_Y_XA = abs_array(0.05+np.random.normal(scale=0.01,size=52))\n",
    "p_Y_XB = abs_array(0.03+np.random.normal(scale=0.015,size=52))\n",
    "p_Y_XC = abs_array(0.01+np.random.normal(scale=0.004,size=52))"
   ]
  },
  {
   "cell_type": "code",
   "execution_count": null,
   "metadata": {},
   "outputs": [],
   "source": [
    "# Total probability: Denominator of Bayes' theorem\n",
    "p_Y = p_Y_XA*p_XA+p_Y_XB*p_XB+p_Y_XC*p_XC\n",
    "\n",
    "# Bayes' rule: Probability of item produced in machine A if it is found defective\n",
    "p_XA_Y = (p_Y_XA*p_XA)/p_Y\n",
    "# Bayes' rule: Probability of item produced in machine B if it is found defective\n",
    "p_XB_Y = (p_Y_XB*p_XB)/p_Y\n",
    "# Bayes' rule: Probability of item produced in machine C if it is found defective\n",
    "p_XC_Y = (p_Y_XC*p_XC)/p_Y"
   ]
  },
  {
   "cell_type": "code",
   "execution_count": null,
   "metadata": {},
   "outputs": [],
   "source": [
    "plt.figure(figsize=(10,5))\n",
    "plt.title(\"Probability of defective item produced by machine A\",fontsize=15)\n",
    "plt.plot(p_XA_Y,color='k',marker='o',markersize=8)\n",
    "plt.grid(True)\n",
    "plt.xlabel(\"Work weeks\",fontsize=14)\n",
    "plt.ylabel(\"Probability of machine A\",fontsize=14)\n",
    "plt.xticks([i for i in range(1,53,5)],fontsize=14,rotation=45)\n",
    "plt.yticks(fontsize=14)\n",
    "\n",
    "plt.figure(figsize=(10,5))\n",
    "plt.title(\"Probability of defective item produced by machine B\",fontsize=15)\n",
    "plt.plot(p_XB_Y,color='blue',marker='o',markersize=8)\n",
    "plt.grid(True)\n",
    "plt.xlabel(\"Work weeks\",fontsize=14)\n",
    "plt.ylabel(\"Probability of machine B\",fontsize=14)\n",
    "plt.xticks([i for i in range(1,53,5)],fontsize=14,rotation=45)\n",
    "plt.yticks(fontsize=14)\n",
    "plt.show()\n",
    "\n",
    "plt.figure(figsize=(10,5))\n",
    "plt.title(\"Probability of defective item produced by machine C\",fontsize=15)\n",
    "plt.plot(p_XC_Y,color='red',marker='o',markersize=8)\n",
    "plt.grid(True)\n",
    "plt.xlabel(\"Work weeks\",fontsize=14)\n",
    "plt.ylabel(\"Probability of machine C\",fontsize=14)\n",
    "plt.xticks([i for i in range(1,53,5)],fontsize=14,rotation=45)\n",
    "plt.yticks(fontsize=14)\n",
    "plt.show()\n",
    "\n",
    "plt.show()"
   ]
  }
 ],
 "metadata": {
  "kernelspec": {
   "display_name": "Python 3",
   "language": "python",
   "name": "python3"
  },
  "language_info": {
   "codemirror_mode": {
    "name": "ipython",
    "version": 3
   },
   "file_extension": ".py",
   "mimetype": "text/x-python",
   "name": "python",
   "nbconvert_exporter": "python",
   "pygments_lexer": "ipython3",
   "version": "3.7.0"
  }
 },
 "nbformat": 4,
 "nbformat_minor": 4
}
