{
 "cells": [
  {
   "attachments": {},
   "cell_type": "markdown",
   "metadata": {},
   "source": [
    "# Exercice 1\n",
    "Ecrire une fonction `bern` qui simule une expérience de bernouilli de paramétre $p$ donné, \n",
    "avec  $p\\in]0;1[$\n",
    "\n",
    "```python\n",
    "def bern(p):\n",
    "    \"\"\" bern simule une éxpérience de bernouilli de paramétre p$\n",
    "    bern(p) retournera 0 avec une probabilité égale à 1-p\n",
    "    bern(p) retournera 1 avec une probabilité égale à 1-p\n",
    "    \"\"\"\n",
    "    pass"
   ]
  },
  {
   "cell_type": "code",
   "execution_count": 24,
   "metadata": {},
   "outputs": [],
   "source": [
    "import numpy as np\n",
    "\n",
    "def bern(p):\n",
    "    \"\"\" bern simule une éxpérience de bernouilli de paramétre p$\n",
    "    bern(p) retournera 0 avec une probabilité égale à 1-p\n",
    "    bern(p) retournera 1 avec une probabilité égale à 1-p\n",
    "    \"\"\"\n",
    "    r=np.random.random()\n",
    "    if r>p:\n",
    "        return 0\n",
    "    else:\n",
    "        return 1\n"
   ]
  },
  {
   "cell_type": "code",
   "execution_count": 5,
   "metadata": {},
   "outputs": [
    {
     "data": {
      "text/plain": [
       "0.5821425365727816"
      ]
     },
     "execution_count": 5,
     "metadata": {},
     "output_type": "execute_result"
    }
   ],
   "source": [
    "np.random.random()"
   ]
  },
  {
   "cell_type": "code",
   "execution_count": 16,
   "metadata": {},
   "outputs": [
    {
     "data": {
      "text/plain": [
       "1"
      ]
     },
     "execution_count": 16,
     "metadata": {},
     "output_type": "execute_result"
    }
   ],
   "source": [
    "# p=0.5\n",
    "bern(0.5)"
   ]
  },
  {
   "cell_type": "code",
   "execution_count": 9,
   "metadata": {},
   "outputs": [],
   "source": [
    "test=[bern(0.5) for i in range(10000)]"
   ]
  },
  {
   "cell_type": "code",
   "execution_count": 14,
   "metadata": {},
   "outputs": [
    {
     "data": {
      "text/plain": [
       "0.4992"
      ]
     },
     "execution_count": 14,
     "metadata": {},
     "output_type": "execute_result"
    }
   ],
   "source": [
    "frq1=test.count(1)/10000\n",
    "frq1"
   ]
  },
  {
   "cell_type": "code",
   "execution_count": 15,
   "metadata": {},
   "outputs": [
    {
     "data": {
      "text/plain": [
       "0.5008"
      ]
     },
     "execution_count": 15,
     "metadata": {},
     "output_type": "execute_result"
    }
   ],
   "source": [
    "frq0=test.count(0)/10000\n",
    "frq0"
   ]
  },
  {
   "cell_type": "code",
   "execution_count": 22,
   "metadata": {},
   "outputs": [],
   "source": [
    "#p=0.7\n",
    "test07=[bern(0.7) for i in range(50000)]"
   ]
  },
  {
   "cell_type": "code",
   "execution_count": 23,
   "metadata": {},
   "outputs": [
    {
     "name": "stdout",
     "output_type": "stream",
     "text": [
      "P(X=0)= 0.30228, P(X=1)=0.69772\n"
     ]
    }
   ],
   "source": [
    "frq07_1=test07.count(1)/50000\n",
    "frq07_0=test07.count(0)/50000\n",
    "print(f\"P(X=0)= {frq07_0}, P(X=1)={frq07_1}\")"
   ]
  },
  {
   "attachments": {},
   "cell_type": "markdown",
   "metadata": {},
   "source": [
    "# Exercice 2\n",
    "Ecrire une fonction `binom` qui simule une expérience binômiale de paramétre $p$ et $n$ donné, \n",
    "avec  $p\\in]0;1[$\n",
    "\n",
    "```python\n",
    "def binom(n,p):\n",
    "    \"\"\" \n",
    "    binom simule une éxpérience binomiale de paramétre p et n bern(n,p) retournera le nombre de succés dans une expériance de bernouilli épétée n fois d'une manière indépendente\n",
    "    \"\"\"\n",
    "    pass\n",
    "```"
   ]
  },
  {
   "cell_type": "code",
   "execution_count": 25,
   "metadata": {},
   "outputs": [],
   "source": [
    "def binom(n,p):\n",
    "    \"\"\" \n",
    "    binom simule une éxpérience binomiale de paramétre p et n bern(n,p) retournera le nombre de succés dans une expériance de bernouilli épétée n fois d'une manière indépendente\n",
    "    \"\"\"\n",
    "    realisiation=[bern(p) for i in range(n)]\n",
    "    return realisiation.count(1)"
   ]
  },
  {
   "cell_type": "code",
   "execution_count": 27,
   "metadata": {},
   "outputs": [],
   "source": [
    "# binom(10,0.5) elle aura une moyenne = n*p=5"
   ]
  },
  {
   "cell_type": "code",
   "execution_count": 30,
   "metadata": {},
   "outputs": [
    {
     "name": "stdout",
     "output_type": "stream",
     "text": [
      " la moyenne de test = 4.99824\n"
     ]
    }
   ],
   "source": [
    "test=[binom(10,0.5) for i in range(50000)]\n",
    "print(f\" la moyenne de test = {sum(test)/50000}\")"
   ]
  },
  {
   "cell_type": "code",
   "execution_count": null,
   "metadata": {},
   "outputs": [],
   "source": []
  }
 ],
 "metadata": {
  "kernelspec": {
   "display_name": "base",
   "language": "python",
   "name": "python3"
  },
  "language_info": {
   "codemirror_mode": {
    "name": "ipython",
    "version": 3
   },
   "file_extension": ".py",
   "mimetype": "text/x-python",
   "name": "python",
   "nbconvert_exporter": "python",
   "pygments_lexer": "ipython3",
   "version": "3.9.13"
  },
  "orig_nbformat": 4,
  "vscode": {
   "interpreter": {
    "hash": "dd2f083c7091592f6e910b42e81e3d9326587f6134c1427a9ed8e8691fd16a23"
   }
  }
 },
 "nbformat": 4,
 "nbformat_minor": 2
}
